{
 "cells": [
  {
   "cell_type": "code",
   "execution_count": 2,
   "metadata": {
    "collapsed": true
   },
   "outputs": [],
   "source": [
    "import pandas as pd\n",
    "import numpy as np\n",
    "import matplotlib.pyplot as plt\n",
    "import os\n",
    "import codecs\n",
    "import gc\n",
    "import json\n",
    "import time\n",
    "\n",
    "DATA_DIR = 'data'\n",
    "\n",
    "CHUNKSIZE = 10000000\n",
    "# MAX_ROW_NUM = 50000000\n",
    "# MAX_ROW_NUM = 3000000\n",
    "\n",
    "NYC_RANGE = (-74.3400, -73.6700, 40.4500, 40.9500)\n",
    "NYC_RANGE_EXTENDED = (-74.4667, -73.0083, 40.4203, 41.3077)\n",
    "NYC_RANGE_FILENAME = 'gnyc.png'\n",
    "nyc_map = plt.imread(os.path.join(DATA_DIR, NYC_RANGE_FILENAME))\n",
    "\n",
    "NYC_EXTENDED_FILENAME = 'gnyce.png'\n",
    "nyc_map_extended = plt.imread(os.path.join(DATA_DIR, NYC_EXTENDED_FILENAME))\n",
    "\n",
    "WASHED_DATA_DIR = 'washed'\n",
    "WASHED_FILE_NAME = 'train_w.csv'\n",
    "\n",
    "INPUT_FILE_PATH = os.path.join(WASHED_DATA_DIR, WASHED_FILE_NAME)\n",
    "\n",
    "COLUMN_NAMES = ['fare_amount', 'pickup_longitude', 'pickup_latitude', \n",
    "                'dropoff_longitude', 'dropoff_latitude', 'passenger_count']\n",
    "\n"
   ]
  },
  {
   "cell_type": "code",
   "execution_count": 2,
   "metadata": {},
   "outputs": [],
   "source": [
    "def lookup(s):\n",
    "    \"\"\"\n",
    "    This is an extremely fast approach to datetime parsing.\n",
    "    For large data, the same dates are often repeated. Rather than\n",
    "    re-parse these, we store all unique dates, parse them, and\n",
    "    use a lookup to convert all dates.\n",
    "    \"\"\"\n",
    "    dates = {date:pd.to_datetime(date) for date in s.unique()}\n",
    "    return s.map(dates)"
   ]
  },
  {
   "cell_type": "code",
   "execution_count": 7,
   "metadata": {},
   "outputs": [
    {
     "name": "stdout",
     "output_type": "stream",
     "text": [
      "0      2009-06-15 17:26:21\n",
      "1      2010-01-05 16:52:16\n",
      "2      2011-08-18 00:35:00\n",
      "3      2012-04-21 04:30:42\n",
      "4      2010-03-09 07:51:00\n",
      "5      2011-01-06 09:50:45\n",
      "6      2012-11-20 20:35:00\n",
      "7      2012-01-04 17:22:00\n",
      "8      2012-12-03 13:10:00\n",
      "9      2009-09-02 01:11:00\n",
      "10     2012-04-08 07:30:50\n",
      "11     2009-11-06 01:04:03\n",
      "12     2013-07-02 19:54:00\n",
      "13     2011-04-05 17:11:05\n",
      "14     2014-02-19 07:22:00\n",
      "15     2009-07-22 16:08:00\n",
      "16     2010-07-07 14:52:00\n",
      "17     2014-12-06 20:36:22\n",
      "18     2010-09-07 13:18:00\n",
      "19     2013-02-12 12:15:46\n",
      "20     2009-08-06 18:17:23\n",
      "21     2010-12-06 12:29:00\n",
      "22     2009-12-10 15:37:00\n",
      "23     2011-06-21 16:15:00\n",
      "24     2011-06-28 19:47:00\n",
      "25     2012-05-04 06:11:20\n",
      "26     2013-08-11 00:52:00\n",
      "27     2014-02-19 16:03:00\n",
      "28     2015-06-21 21:46:34\n",
      "29     2009-01-09 16:10:00\n",
      "               ...        \n",
      "9970   2012-11-24 21:22:58\n",
      "9971   2013-12-04 07:51:41\n",
      "9972   2014-12-31 07:32:54\n",
      "9973   2009-06-28 23:28:00\n",
      "9974   2010-01-04 09:12:01\n",
      "9975   2011-09-24 21:48:21\n",
      "9976   2011-11-21 06:18:00\n",
      "9977   2012-07-12 13:02:15\n",
      "9978   2013-04-23 07:45:00\n",
      "9979   2014-07-15 13:15:46\n",
      "9980   2011-06-23 17:26:00\n",
      "9981   2013-01-04 20:47:00\n",
      "9982   2014-03-14 11:39:54\n",
      "9983   2010-01-22 09:01:31\n",
      "9984   2011-12-26 21:12:24\n",
      "9985   2010-09-25 16:05:00\n",
      "9986   2011-03-31 23:14:56\n",
      "9987   2013-06-23 20:23:30\n",
      "9988   2010-05-28 00:36:07\n",
      "9989   2009-07-25 10:58:59\n",
      "9990   2010-07-31 02:26:00\n",
      "9991   2010-12-19 18:27:00\n",
      "9992   2014-05-25 18:45:27\n",
      "9993   2009-04-10 05:20:00\n",
      "9994   2009-10-30 10:32:00\n",
      "9995   2011-06-19 14:28:00\n",
      "9996   2011-07-21 03:37:00\n",
      "9997   2012-07-26 16:18:58\n",
      "9998   2013-01-18 13:33:19\n",
      "9999   2013-05-12 13:20:00\n",
      "Name: pickup_datetime, Length: 10000, dtype: datetime64[ns]\n"
     ]
    }
   ],
   "source": [
    "sum_of_x = pd.DataFrame(columns=COLUMN_NAMES)\n",
    "sum_of_xsqure = pd.DataFrame(columns=COLUMN_NAMES)\n",
    "st = time.time()\n",
    "for trunk in pd.read_csv(INPUT_FILE_PATH, chunksize=10000, parse_dates=['pickup_datetime'], infer_datetime_format=True):\n",
    "    # print (time.time() - st)\n",
    "    # print (trunk.pickup_datetime)\n",
    "    trunk.pickup_datetime.date\n",
    "    break"
   ]
  },
  {
   "cell_type": "code",
   "execution_count": 4,
   "metadata": {},
   "outputs": [
    {
     "data": {
      "text/plain": [
       "0    2009-06-15 17:26:21 UTC\n",
       "1    2010-01-05 16:52:16 UTC\n",
       "2    2011-08-18 00:35:00 UTC\n",
       "3    2012-04-21 04:30:42 UTC\n",
       "4    2010-03-09 07:51:00 UTC\n",
       "5    2011-01-06 09:50:45 UTC\n",
       "6    2012-11-20 20:35:00 UTC\n",
       "7    2012-01-04 17:22:00 UTC\n",
       "8    2012-12-03 13:10:00 UTC\n",
       "9    2009-09-02 01:11:00 UTC\n",
       "Name: pickup_datetime, dtype: object"
      ]
     },
     "execution_count": 4,
     "metadata": {},
     "output_type": "execute_result"
    }
   ],
   "source": [
    "df = pd.read_csv(INPUT_FILE_PATH, nrows=10)\n",
    "df.pickup_datetime"
   ]
  },
  {
   "cell_type": "code",
   "execution_count": 22,
   "metadata": {},
   "outputs": [
    {
     "name": "stdout",
     "output_type": "stream",
     "text": [
      "1.8500699996948242\n"
     ]
    }
   ],
   "source": [
    "st = time.time()\n",
    "df = pd.read_csv(INPUT_FILE_PATH, nrows=100000, parse_dates=['pickup_datetime'], infer_datetime_format=True)\n",
    "print (time.time() - st)"
   ]
  },
  {
   "cell_type": "code",
   "execution_count": 3,
   "metadata": {},
   "outputs": [
    {
     "name": "stdout",
     "output_type": "stream",
     "text": [
      "0.6449751853942871\n"
     ]
    }
   ],
   "source": [
    "st = time.time()\n",
    "df = pd.read_csv(INPUT_FILE_PATH, nrows=100000)\n",
    "print (time.time() - st)"
   ]
  },
  {
   "cell_type": "code",
   "execution_count": 6,
   "metadata": {},
   "outputs": [
    {
     "name": "stdout",
     "output_type": "stream",
     "text": [
      "28.47322177886963\n"
     ]
    }
   ],
   "source": [
    "st = time.time()\n",
    "df = pd.read_csv(INPUT_FILE_PATH, nrows=100000, parse_dates=['pickup_datetime'])\n",
    "print (time.time() - st)"
   ]
  },
  {
   "cell_type": "code",
   "execution_count": 7,
   "metadata": {},
   "outputs": [
    {
     "name": "stdout",
     "output_type": "stream",
     "text": [
      "2.45011043548584\n"
     ]
    }
   ],
   "source": [
    "st = time.time()\n",
    "df = pd.read_csv(INPUT_FILE_PATH, nrows=100000, parse_dates=['pickup_datetime'], infer_datetime_format=True)\n",
    "new_years, new_months, new_days, new_hours = zip(*[(d.year, d.month, d.day, d.hour) for d in df.pickup_datetime])\n",
    "df = df.assign(pickup_year=new_years, pickup_month=new_months, pickup_day=new_days, pickup_hour=new_hours)\n",
    "df.drop(columns=['pickup_datetime'])\n",
    "print (time.time() - st)"
   ]
  },
  {
   "cell_type": "code",
   "execution_count": 24,
   "metadata": {},
   "outputs": [
    {
     "name": "stdout",
     "output_type": "stream",
     "text": [
      "1.361006259918213\n"
     ]
    }
   ],
   "source": [
    "def parsetuple(d):\n",
    "    a = d.split(' ')\n",
    "    date = a[0]\n",
    "    time = a[1]\n",
    "    y, m, day = date.split('-')\n",
    "    h = time.split(':')[0]\n",
    "    return int(y), int(m), int(day), int(h)\n",
    "st = time.time()\n",
    "df = pd.read_csv(INPUT_FILE_PATH, nrows=100000)\n",
    "new_years, new_months, new_days, new_hours = zip(*[parsetuple(d) for d in df.pickup_datetime])\n",
    "df = df.assign(pickup_year=new_years, pickup_month=new_months, pickup_day=new_days, pickup_hour=new_hours)\n",
    "df.drop(columns=['pickup_datetime'])\n",
    "print (time.time() - st)"
   ]
  },
  {
   "cell_type": "code",
   "execution_count": 19,
   "metadata": {},
   "outputs": [
    {
     "name": "stdout",
     "output_type": "stream",
     "text": [
      "1.5310471057891846\n"
     ]
    }
   ],
   "source": [
    "def parsetuple(d):\n",
    "    a = d.split(' ')\n",
    "    date = a[0]\n",
    "    time = a[1]\n",
    "    y, m, day = date.split('-')\n",
    "    h = time.split(':')[0]\n",
    "    return int(d[0:4]), int(d[5:7]), int(d[8:10]), int(d[11:13])\n",
    "st = time.time()\n",
    "df = pd.read_csv(INPUT_FILE_PATH, nrows=100000)\n",
    "new_years, new_months, new_days, new_hours = zip(*[parsetuple(d) for d in df.pickup_datetime])\n",
    "df = df.assign(pickup_year=new_years, pickup_month=new_months, pickup_day=new_days, pickup_hour=new_hours)\n",
    "df.drop(columns=['pickup_datetime'])\n",
    "print (time.time() - st)"
   ]
  },
  {
   "cell_type": "code",
   "execution_count": 23,
   "metadata": {},
   "outputs": [
    {
     "name": "stdout",
     "output_type": "stream",
     "text": [
      "1.1640467643737793\n"
     ]
    }
   ],
   "source": [
    "st = time.time()\n",
    "df = pd.read_csv(INPUT_FILE_PATH, nrows=100000)\n",
    "new_years, new_months, new_days, new_hours = zip(*[(int(d[0:4]), int(d[5:7]), int(d[8:10]), int(d[11:13])) for d in df.pickup_datetime])\n",
    "df = df.assign(pickup_year=new_years, pickup_month=new_months, pickup_day=new_days, pickup_hour=new_hours)\n",
    "df.drop(columns=['pickup_datetime'])\n",
    "print (time.time() - st) "
   ]
  },
  {
   "cell_type": "code",
   "execution_count": 25,
   "metadata": {
    "collapsed": true
   },
   "outputs": [
    {
     "data": {
      "text/html": [
       "<div>\n",
       "<style scoped>\n",
       "    .dataframe tbody tr th:only-of-type {\n",
       "        vertical-align: middle;\n",
       "    }\n",
       "\n",
       "    .dataframe tbody tr th {\n",
       "        vertical-align: top;\n",
       "    }\n",
       "\n",
       "    .dataframe thead th {\n",
       "        text-align: right;\n",
       "    }\n",
       "</style>\n",
       "<table border=\"1\" class=\"dataframe\">\n",
       "  <thead>\n",
       "    <tr style=\"text-align: right;\">\n",
       "      <th></th>\n",
       "      <th>key</th>\n",
       "      <th>fare_amount</th>\n",
       "      <th>pickup_datetime</th>\n",
       "      <th>pickup_longitude</th>\n",
       "      <th>pickup_latitude</th>\n",
       "      <th>dropoff_longitude</th>\n",
       "      <th>dropoff_latitude</th>\n",
       "      <th>passenger_count</th>\n",
       "      <th>pickup_year</th>\n",
       "      <th>pickup_month</th>\n",
       "      <th>pickup_day</th>\n",
       "      <th>pickup_hour</th>\n",
       "    </tr>\n",
       "  </thead>\n",
       "  <tbody>\n",
       "    <tr>\n",
       "      <th>0</th>\n",
       "      <td>2009-06-15 17:26:21.0000001</td>\n",
       "      <td>4.5</td>\n",
       "      <td>2009-06-15 17:26:21 UTC</td>\n",
       "      <td>-73.844311</td>\n",
       "      <td>40.721319</td>\n",
       "      <td>-73.841610</td>\n",
       "      <td>40.712278</td>\n",
       "      <td>1</td>\n",
       "      <td>2009</td>\n",
       "      <td>6</td>\n",
       "      <td>15</td>\n",
       "      <td>17</td>\n",
       "    </tr>\n",
       "    <tr>\n",
       "      <th>1</th>\n",
       "      <td>2010-01-05 16:52:16.0000002</td>\n",
       "      <td>16.9</td>\n",
       "      <td>2010-01-05 16:52:16 UTC</td>\n",
       "      <td>-74.016048</td>\n",
       "      <td>40.711303</td>\n",
       "      <td>-73.979268</td>\n",
       "      <td>40.782004</td>\n",
       "      <td>1</td>\n",
       "      <td>2010</td>\n",
       "      <td>1</td>\n",
       "      <td>5</td>\n",
       "      <td>16</td>\n",
       "    </tr>\n",
       "    <tr>\n",
       "      <th>2</th>\n",
       "      <td>2011-08-18 00:35:00.00000049</td>\n",
       "      <td>5.7</td>\n",
       "      <td>2011-08-18 00:35:00 UTC</td>\n",
       "      <td>-73.982738</td>\n",
       "      <td>40.761270</td>\n",
       "      <td>-73.991242</td>\n",
       "      <td>40.750562</td>\n",
       "      <td>2</td>\n",
       "      <td>2011</td>\n",
       "      <td>8</td>\n",
       "      <td>18</td>\n",
       "      <td>0</td>\n",
       "    </tr>\n",
       "    <tr>\n",
       "      <th>3</th>\n",
       "      <td>2012-04-21 04:30:42.0000001</td>\n",
       "      <td>7.7</td>\n",
       "      <td>2012-04-21 04:30:42 UTC</td>\n",
       "      <td>-73.987130</td>\n",
       "      <td>40.733143</td>\n",
       "      <td>-73.991567</td>\n",
       "      <td>40.758092</td>\n",
       "      <td>1</td>\n",
       "      <td>2012</td>\n",
       "      <td>4</td>\n",
       "      <td>21</td>\n",
       "      <td>4</td>\n",
       "    </tr>\n",
       "    <tr>\n",
       "      <th>4</th>\n",
       "      <td>2010-03-09 07:51:00.000000135</td>\n",
       "      <td>5.3</td>\n",
       "      <td>2010-03-09 07:51:00 UTC</td>\n",
       "      <td>-73.968095</td>\n",
       "      <td>40.768008</td>\n",
       "      <td>-73.956655</td>\n",
       "      <td>40.783762</td>\n",
       "      <td>1</td>\n",
       "      <td>2010</td>\n",
       "      <td>3</td>\n",
       "      <td>9</td>\n",
       "      <td>7</td>\n",
       "    </tr>\n",
       "  </tbody>\n",
       "</table>\n",
       "</div>"
      ],
      "text/plain": [
       "<div>\n",
       "<style scoped>\n",
       "    .dataframe tbody tr th:only-of-type {\n",
       "        vertical-align: middle;\n",
       "    }\n",
       "\n",
       "    .dataframe tbody tr th {\n",
       "        vertical-align: top;\n",
       "    }\n",
       "\n",
       "    .dataframe thead th {\n",
       "        text-align: right;\n",
       "    }\n",
       "</style>\n",
       "<table border=\"1\" class=\"dataframe\">\n",
       "  <thead>\n",
       "    <tr style=\"text-align: right;\">\n",
       "      <th></th>\n",
       "      <th>key</th>\n",
       "      <th>fare_amount</th>\n",
       "      <th>pickup_datetime</th>\n",
       "      <th>pickup_longitude</th>\n",
       "      <th>pickup_latitude</th>\n",
       "      <th>dropoff_longitude</th>\n",
       "      <th>dropoff_latitude</th>\n",
       "      <th>passenger_count</th>\n",
       "      <th>pickup_year</th>\n",
       "      <th>pickup_month</th>\n",
       "      <th>pickup_day</th>\n",
       "      <th>pickup_hour</th>\n",
       "    </tr>\n",
       "  </thead>\n",
       "  <tbody>\n",
       "    <tr>\n",
       "      <th>0</th>\n",
       "      <td>2009-06-15 17:26:21.0000001</td>\n",
       "      <td>4.5</td>\n",
       "      <td>2009-06-15 17:26:21 UTC</td>\n",
       "      <td>-73.844311</td>\n",
       "      <td>40.721319</td>\n",
       "      <td>-73.841610</td>\n",
       "      <td>40.712278</td>\n",
       "      <td>1</td>\n",
       "      <td>2009</td>\n",
       "      <td>6</td>\n",
       "      <td>15</td>\n",
       "      <td>17</td>\n",
       "    </tr>\n",
       "    <tr>\n",
       "      <th>1</th>\n",
       "      <td>2010-01-05 16:52:16.0000002</td>\n",
       "      <td>16.9</td>\n",
       "      <td>2010-01-05 16:52:16 UTC</td>\n",
       "      <td>-74.016048</td>\n",
       "      <td>40.711303</td>\n",
       "      <td>-73.979268</td>\n",
       "      <td>40.782004</td>\n",
       "      <td>1</td>\n",
       "      <td>2010</td>\n",
       "      <td>1</td>\n",
       "      <td>5</td>\n",
       "      <td>16</td>\n",
       "    </tr>\n",
       "    <tr>\n",
       "      <th>2</th>\n",
       "      <td>2011-08-18 00:35:00.00000049</td>\n",
       "      <td>5.7</td>\n",
       "      <td>2011-08-18 00:35:00 UTC</td>\n",
       "      <td>-73.982738</td>\n",
       "      <td>40.761270</td>\n",
       "      <td>-73.991242</td>\n",
       "      <td>40.750562</td>\n",
       "      <td>2</td>\n",
       "      <td>2011</td>\n",
       "      <td>8</td>\n",
       "      <td>18</td>\n",
       "      <td>0</td>\n",
       "    </tr>\n",
       "    <tr>\n",
       "      <th>3</th>\n",
       "      <td>2012-04-21 04:30:42.0000001</td>\n",
       "      <td>7.7</td>\n",
       "      <td>2012-04-21 04:30:42 UTC</td>\n",
       "      <td>-73.987130</td>\n",
       "      <td>40.733143</td>\n",
       "      <td>-73.991567</td>\n",
       "      <td>40.758092</td>\n",
       "      <td>1</td>\n",
       "      <td>2012</td>\n",
       "      <td>4</td>\n",
       "      <td>21</td>\n",
       "      <td>4</td>\n",
       "    </tr>\n",
       "    <tr>\n",
       "      <th>4</th>\n",
       "      <td>2010-03-09 07:51:00.000000135</td>\n",
       "      <td>5.3</td>\n",
       "      <td>2010-03-09 07:51:00 UTC</td>\n",
       "      <td>-73.968095</td>\n",
       "      <td>40.768008</td>\n",
       "      <td>-73.956655</td>\n",
       "      <td>40.783762</td>\n",
       "      <td>1</td>\n",
       "      <td>2010</td>\n",
       "      <td>3</td>\n",
       "      <td>9</td>\n",
       "      <td>7</td>\n",
       "    </tr>\n",
       "  </tbody>\n",
       "</table>\n",
       "</div>"
      ]
     },
     "execution_count": 25,
     "metadata": {},
     "output_type": "execute_result"
    }
   ],
   "source": [
    "df.head()"
   ]
  },
  {
   "cell_type": "code",
   "execution_count": null,
   "metadata": {},
   "outputs": [
    {
     "ename": "NameError",
     "evalue": "name 'pd' is not defined",
     "output_type": "error",
     "traceback": [
      "\u001b[0;31m---------------------------------------------------------------------------\u001b[0m",
      "\u001b[0;31mNameError\u001b[0m                                 Traceback (most recent call last)",
      "\u001b[0;32m<ipython-input-1-6c5bebbec73f>\u001b[0m in \u001b[0;36m<module>\u001b[0;34m()\u001b[0m\n\u001b[0;32m----> 1\u001b[0;31m \u001b[0mdf\u001b[0m \u001b[0;34m=\u001b[0m \u001b[0mpd\u001b[0m\u001b[0;34m.\u001b[0m\u001b[0mread_csv\u001b[0m\u001b[0;34m(\u001b[0m\u001b[0;34m'washed\\\\train_wf.csv'\u001b[0m\u001b[0;34m,\u001b[0m \u001b[0mnrows\u001b[0m\u001b[0;34m=\u001b[0m\u001b[0;36m1000\u001b[0m\u001b[0;34m)\u001b[0m\u001b[0;34m\u001b[0m\u001b[0m\n\u001b[0m\u001b[1;32m      2\u001b[0m \u001b[0mdf\u001b[0m\u001b[0;34m.\u001b[0m\u001b[0mhead\u001b[0m\u001b[0;34m(\u001b[0m\u001b[0;34m)\u001b[0m\u001b[0;34m\u001b[0m\u001b[0m\n",
      "\u001b[0;31mNameError\u001b[0m: name 'pd' is not defined"
     ]
    }
   ],
   "source": [
    "df = pd.read_csv('washed\\\\train_wf.csv', nrows=1000)\n",
    "df.head()"
   ]
  },
  {
   "cell_type": "code",
   "execution_count": null,
   "metadata": {},
   "outputs": [],
   "source": []
  }
 ],
 "metadata": {
  "kernelspec": {
   "display_name": "Python 3",
   "language": "python",
   "name": "python3"
  },
  "language_info": {
   "codemirror_mode": {
    "name": "ipython",
    "version": 3
   },
   "file_extension": ".py",
   "mimetype": "text/x-python",
   "name": "python",
   "nbconvert_exporter": "python",
   "pygments_lexer": "ipython3",
   "version": "3.6.3"
  }
 },
 "nbformat": 4,
 "nbformat_minor": 1
}
