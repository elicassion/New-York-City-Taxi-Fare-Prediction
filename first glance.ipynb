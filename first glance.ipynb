{
 "cells": [
  {
   "cell_type": "code",
   "execution_count": 6,
   "metadata": {
    "collapsed": true
   },
   "outputs": [],
   "source": [
    "import pandas as pd\n",
    "import numpy as np\n",
    "import matplotlib.pyplot as plt\n",
    "% matplotlib inline\n",
    "plt.style.use('seaborn-whitegrid')\n",
    "import os\n",
    "import codecs\n",
    "import gc\n",
    "import json\n",
    "DATA_DIR = 'data'\n",
    "FILE_NAME = 'train.csv'\n",
    "INPUT_FILE = os.path.join(DATA_DIR, FILE_NAME)\n",
    "\n",
    "CHUNKSIZE = 10000\n",
    "# MAX_ROW_NUM = 50000000\n",
    "MAX_ROW_NUM = 10000"
   ]
  },
  {
   "cell_type": "code",
   "execution_count": 2,
   "metadata": {},
   "outputs": [],
   "source": []
  },
  {
   "cell_type": "code",
   "execution_count": 4,
   "metadata": {},
   "outputs": [],
   "source": [
    "pickup_datetime = []\n",
    "pickup_longitude = []\n",
    "pickup_latitude = []\n",
    "dropoff_longitude = []\n",
    "dropoff_latitude = []\n",
    "passenger_count = []"
   ]
  },
  {
   "cell_type": "code",
   "execution_count": 14,
   "metadata": {},
   "outputs": [],
   "source": [
    "# for cur_row_counter in range(0, MAX_ROW_NUM, CHUNKSIZE):\n",
    "import gc\n",
    "# col_names = ['pickup_datetime', 'pickup_longitude', \n",
    "#              'pickup_latitude', 'dropoff_longitude', \n",
    "#              'dropoff_latitude', 'passenger_count']\n",
    "col_names = ['dropoff_longitude', \n",
    "             'dropoff_latitude', 'passenger_count']\n",
    "for name in col_names:\n",
    "    df = pd.read_csv('data\\\\train.csv', header = 0, usecols = [name])\n",
    "    # if name in ['pickup_longitude', \n",
    "    #          'pickup_latitude', 'dropoff_longtitude', \n",
    "    #          'dropoff_latitude']:\n",
    "    # \n",
    "    df.to_csv(os.path.join(DATA_DIR, name+'.csv'))\n",
    "    gc.collect()\n",
    "# pickup_datetime = df['pickup_datetime']\n",
    "# pickup_longitude = df['pickup_longitude']\n",
    "# pickup_latitude = df['pickup_latitude']\n",
    "# dropoff_longitude = df['dropoff_longtitude']\n",
    "# dropoff_latitude = df['dropoff_latitude']\n",
    "# passenger_count = df['passenger_count']"
   ]
  },
  {
   "cell_type": "code",
   "execution_count": 25,
   "metadata": {},
   "outputs": [
    {
     "data": {
      "text/plain": [
       "419"
      ]
     },
     "execution_count": 25,
     "metadata": {},
     "output_type": "execute_result"
    }
   ],
   "source": [
    "df = pd.read_csv('data\\\\train.csv', header=0, usecols=['fare_amount'])\n",
    "df.to_csv(os.path.join(DATA_DIR, 'fare_amount'+'.csv'))\n",
    "gc.collect()"
   ]
  },
  {
   "cell_type": "code",
   "execution_count": 7,
   "metadata": {},
   "outputs": [
    {
     "name": "stdout",
     "output_type": "stream",
     "text": [
      "pickup_longitude\n",
      "Unnamed: 0          2.771193e+07\n",
      "pickup_longitude   -7.398180e+01\n",
      "dtype: float64\n",
      "Unnamed: 0          2.771193e+07\n",
      "pickup_longitude   -7.250968e+01\n",
      "dtype: float64\n",
      "Unnamed: 0          2.559837e+14\n",
      "pickup_longitude    1.650938e+02\n",
      "dtype: float64\n",
      "Unnamed: 0          5.542386e+07\n",
      "pickup_longitude    3.457626e+03\n",
      "dtype: float64\n",
      "Unnamed: 0             0.000000\n",
      "pickup_longitude   -3442.059565\n",
      "dtype: float64\n"
     ]
    }
   ],
   "source": [
    "\n",
    "gc.collect()\n",
    "# for name in ['pickup_longitude', \n",
    "#          'pickup_latitude', 'dropoff_longitude', \n",
    "#          'dropoff_latitude']:\n",
    "# for name in ['pickup_longitude']:\n",
    "name = 'pickup_longitude'\n",
    "df = pd.read_csv(os.path.join(DATA_DIR, name+'.csv'))\n",
    "print (name)\n",
    "print(df.median())\n",
    "print(df.mean())\n",
    "print(df.var())\n",
    "print(df.max())\n",
    "print(df.min())\n",
    "    # gc.collect()\n",
    "    # df.plot()"
   ]
  },
  {
   "cell_type": "code",
   "execution_count": 24,
   "metadata": {},
   "outputs": [
    {
     "data": {
      "text/plain": [
       "1343"
      ]
     },
     "execution_count": 24,
     "metadata": {},
     "output_type": "execute_result"
    }
   ],
   "source": [
    "# pickup_longitude\n",
    "# median   -7.398180e+01\n",
    "# mean   -7.250968e+01\n",
    "# var    1.650938e+02\n",
    "# max    3.457626e+03\n",
    "# min   -3442.059565\n",
    "\n",
    "a = df.loc[df['pickup_longitude']>-73.9818+10].index.values\n",
    "b = df.loc[df['pickup_longitude']<-73.9818-10].index.values\n",
    "len(b)"
   ]
  },
  {
   "cell_type": "code",
   "execution_count": 33,
   "metadata": {},
   "outputs": [
    {
     "name": "stdout",
     "output_type": "stream",
     "text": [
      "pickup_longitude\n",
      "-73.981803\n",
      "-72.5096844435854\n",
      "165.09380414684202\n",
      "3457.625683\n",
      "-3442.059565\n",
      "pickup_latitude\n",
      "40.75265200000001\n",
      "39.9197917868742\n",
      "92.97497218700273\n",
      "3408.789565\n",
      "-3492.263768\n",
      "dropoff_longitude\n",
      "-73.98015\n",
      "-72.5112097297414\n",
      "163.3845478238834\n",
      "3457.62235\n",
      "-3442.024565\n",
      "dropoff_latitude\n",
      "40.753157\n",
      "39.92068144481646\n",
      "92.80135123364293\n",
      "3537.132528\n",
      "-3547.886698\n",
      "fare_amount\n",
      "8.5\n",
      "11.345045601733998\n",
      "428.9385703534401\n",
      "93963.36\n",
      "-300.0\n"
     ]
    }
   ],
   "source": [
    "STAT_NOTE_NAME = 'stat.json'\n",
    "stat = {}\n",
    "for name in ['pickup_longitude', \n",
    "         'pickup_latitude', 'dropoff_longitude', \n",
    "         'dropoff_latitude', 'fare_amount']:\n",
    "    stat[name] = []\n",
    "    df = pd.read_csv(os.path.join(DATA_DIR, name+'.csv'))\n",
    "    print (name)\n",
    "    stat[name].append(df.median()[name])\n",
    "    print(df.median()[name])\n",
    "\n",
    "    stat[name].append(df.mean()[name])\n",
    "    print(df.mean()[name])\n",
    "\n",
    "    stat[name].append(df.var()[name])\n",
    "    print(df.var()[name])\n",
    "\n",
    "    stat[name].append(df.max()[name])\n",
    "    print(df.max()[name])\n",
    "\n",
    "    stat[name].append(df.min()[name])\n",
    "    print(df.min()[name])\n",
    "    stat_file = codecs.open(os.path.join(DATA_DIR, STAT_NOTE_NAME), 'w')  \n",
    "    json.dump(stat, stat_file, indent=2)\n",
    "\n",
    "\n"
   ]
  },
  {
   "cell_type": "code",
   "execution_count": 8,
   "metadata": {},
   "outputs": [
    {
     "name": "stdout",
     "output_type": "stream",
     "text": [
      "passenger_count\n",
      "1.0\n",
      "1.6853799201556816\n",
      "1.7626926453495726\n",
      "208\n",
      "0\n"
     ]
    },
    {
     "ename": "TypeError",
     "evalue": "Object of type 'int64' is not JSON serializable",
     "output_type": "error",
     "traceback": [
      "\u001b[0;31m---------------------------------------------------------------------------\u001b[0m",
      "\u001b[0;31mTypeError\u001b[0m                                 Traceback (most recent call last)",
      "\u001b[0;32m<ipython-input-8-ea7896e879c0>\u001b[0m in \u001b[0;36m<module>\u001b[0;34m()\u001b[0m\n\u001b[1;32m     19\u001b[0m \u001b[0mprint\u001b[0m\u001b[0;34m(\u001b[0m\u001b[0mdf\u001b[0m\u001b[0;34m.\u001b[0m\u001b[0mmin\u001b[0m\u001b[0;34m(\u001b[0m\u001b[0;34m)\u001b[0m\u001b[0;34m[\u001b[0m\u001b[0mname\u001b[0m\u001b[0;34m]\u001b[0m\u001b[0;34m)\u001b[0m\u001b[0;34m\u001b[0m\u001b[0m\n\u001b[1;32m     20\u001b[0m \u001b[0mstat_file\u001b[0m \u001b[0;34m=\u001b[0m \u001b[0mcodecs\u001b[0m\u001b[0;34m.\u001b[0m\u001b[0mopen\u001b[0m\u001b[0;34m(\u001b[0m\u001b[0mos\u001b[0m\u001b[0;34m.\u001b[0m\u001b[0mpath\u001b[0m\u001b[0;34m.\u001b[0m\u001b[0mjoin\u001b[0m\u001b[0;34m(\u001b[0m\u001b[0mDATA_DIR\u001b[0m\u001b[0;34m,\u001b[0m \u001b[0;34m'passenger_count_stat.json'\u001b[0m\u001b[0;34m)\u001b[0m\u001b[0;34m,\u001b[0m \u001b[0;34m'w'\u001b[0m\u001b[0;34m)\u001b[0m\u001b[0;34m\u001b[0m\u001b[0m\n\u001b[0;32m---> 21\u001b[0;31m \u001b[0mjson\u001b[0m\u001b[0;34m.\u001b[0m\u001b[0mdump\u001b[0m\u001b[0;34m(\u001b[0m\u001b[0mstat\u001b[0m\u001b[0;34m,\u001b[0m \u001b[0mstat_file\u001b[0m\u001b[0;34m,\u001b[0m \u001b[0mindent\u001b[0m\u001b[0;34m=\u001b[0m\u001b[0;36m2\u001b[0m\u001b[0;34m)\u001b[0m\u001b[0;34m\u001b[0m\u001b[0m\n\u001b[0m",
      "\u001b[0;32mE:\\Anaconda\\lib\\json\\__init__.py\u001b[0m in \u001b[0;36mdump\u001b[0;34m(obj, fp, skipkeys, ensure_ascii, check_circular, allow_nan, cls, indent, separators, default, sort_keys, **kw)\u001b[0m\n\u001b[1;32m    177\u001b[0m     \u001b[0;31m# could accelerate with writelines in some versions of Python, at\u001b[0m\u001b[0;34m\u001b[0m\u001b[0;34m\u001b[0m\u001b[0m\n\u001b[1;32m    178\u001b[0m     \u001b[0;31m# a debuggability cost\u001b[0m\u001b[0;34m\u001b[0m\u001b[0;34m\u001b[0m\u001b[0m\n\u001b[0;32m--> 179\u001b[0;31m     \u001b[0;32mfor\u001b[0m \u001b[0mchunk\u001b[0m \u001b[0;32min\u001b[0m \u001b[0miterable\u001b[0m\u001b[0;34m:\u001b[0m\u001b[0;34m\u001b[0m\u001b[0m\n\u001b[0m\u001b[1;32m    180\u001b[0m         \u001b[0mfp\u001b[0m\u001b[0;34m.\u001b[0m\u001b[0mwrite\u001b[0m\u001b[0;34m(\u001b[0m\u001b[0mchunk\u001b[0m\u001b[0;34m)\u001b[0m\u001b[0;34m\u001b[0m\u001b[0m\n\u001b[1;32m    181\u001b[0m \u001b[0;34m\u001b[0m\u001b[0m\n",
      "\u001b[0;32mE:\\Anaconda\\lib\\json\\encoder.py\u001b[0m in \u001b[0;36m_iterencode\u001b[0;34m(o, _current_indent_level)\u001b[0m\n\u001b[1;32m    428\u001b[0m             \u001b[0;32myield\u001b[0m \u001b[0;32mfrom\u001b[0m \u001b[0m_iterencode_list\u001b[0m\u001b[0;34m(\u001b[0m\u001b[0mo\u001b[0m\u001b[0;34m,\u001b[0m \u001b[0m_current_indent_level\u001b[0m\u001b[0;34m)\u001b[0m\u001b[0;34m\u001b[0m\u001b[0m\n\u001b[1;32m    429\u001b[0m         \u001b[0;32melif\u001b[0m \u001b[0misinstance\u001b[0m\u001b[0;34m(\u001b[0m\u001b[0mo\u001b[0m\u001b[0;34m,\u001b[0m \u001b[0mdict\u001b[0m\u001b[0;34m)\u001b[0m\u001b[0;34m:\u001b[0m\u001b[0;34m\u001b[0m\u001b[0m\n\u001b[0;32m--> 430\u001b[0;31m             \u001b[0;32myield\u001b[0m \u001b[0;32mfrom\u001b[0m \u001b[0m_iterencode_dict\u001b[0m\u001b[0;34m(\u001b[0m\u001b[0mo\u001b[0m\u001b[0;34m,\u001b[0m \u001b[0m_current_indent_level\u001b[0m\u001b[0;34m)\u001b[0m\u001b[0;34m\u001b[0m\u001b[0m\n\u001b[0m\u001b[1;32m    431\u001b[0m         \u001b[0;32melse\u001b[0m\u001b[0;34m:\u001b[0m\u001b[0;34m\u001b[0m\u001b[0m\n\u001b[1;32m    432\u001b[0m             \u001b[0;32mif\u001b[0m \u001b[0mmarkers\u001b[0m \u001b[0;32mis\u001b[0m \u001b[0;32mnot\u001b[0m \u001b[0;32mNone\u001b[0m\u001b[0;34m:\u001b[0m\u001b[0;34m\u001b[0m\u001b[0m\n",
      "\u001b[0;32mE:\\Anaconda\\lib\\json\\encoder.py\u001b[0m in \u001b[0;36m_iterencode_dict\u001b[0;34m(dct, _current_indent_level)\u001b[0m\n\u001b[1;32m    402\u001b[0m                 \u001b[0;32melse\u001b[0m\u001b[0;34m:\u001b[0m\u001b[0;34m\u001b[0m\u001b[0m\n\u001b[1;32m    403\u001b[0m                     \u001b[0mchunks\u001b[0m \u001b[0;34m=\u001b[0m \u001b[0m_iterencode\u001b[0m\u001b[0;34m(\u001b[0m\u001b[0mvalue\u001b[0m\u001b[0;34m,\u001b[0m \u001b[0m_current_indent_level\u001b[0m\u001b[0;34m)\u001b[0m\u001b[0;34m\u001b[0m\u001b[0m\n\u001b[0;32m--> 404\u001b[0;31m                 \u001b[0;32myield\u001b[0m \u001b[0;32mfrom\u001b[0m \u001b[0mchunks\u001b[0m\u001b[0;34m\u001b[0m\u001b[0m\n\u001b[0m\u001b[1;32m    405\u001b[0m         \u001b[0;32mif\u001b[0m \u001b[0mnewline_indent\u001b[0m \u001b[0;32mis\u001b[0m \u001b[0;32mnot\u001b[0m \u001b[0;32mNone\u001b[0m\u001b[0;34m:\u001b[0m\u001b[0;34m\u001b[0m\u001b[0m\n\u001b[1;32m    406\u001b[0m             \u001b[0m_current_indent_level\u001b[0m \u001b[0;34m-=\u001b[0m \u001b[0;36m1\u001b[0m\u001b[0;34m\u001b[0m\u001b[0m\n",
      "\u001b[0;32mE:\\Anaconda\\lib\\json\\encoder.py\u001b[0m in \u001b[0;36m_iterencode_list\u001b[0;34m(lst, _current_indent_level)\u001b[0m\n\u001b[1;32m    323\u001b[0m                 \u001b[0;32melse\u001b[0m\u001b[0;34m:\u001b[0m\u001b[0;34m\u001b[0m\u001b[0m\n\u001b[1;32m    324\u001b[0m                     \u001b[0mchunks\u001b[0m \u001b[0;34m=\u001b[0m \u001b[0m_iterencode\u001b[0m\u001b[0;34m(\u001b[0m\u001b[0mvalue\u001b[0m\u001b[0;34m,\u001b[0m \u001b[0m_current_indent_level\u001b[0m\u001b[0;34m)\u001b[0m\u001b[0;34m\u001b[0m\u001b[0m\n\u001b[0;32m--> 325\u001b[0;31m                 \u001b[0;32myield\u001b[0m \u001b[0;32mfrom\u001b[0m \u001b[0mchunks\u001b[0m\u001b[0;34m\u001b[0m\u001b[0m\n\u001b[0m\u001b[1;32m    326\u001b[0m         \u001b[0;32mif\u001b[0m \u001b[0mnewline_indent\u001b[0m \u001b[0;32mis\u001b[0m \u001b[0;32mnot\u001b[0m \u001b[0;32mNone\u001b[0m\u001b[0;34m:\u001b[0m\u001b[0;34m\u001b[0m\u001b[0m\n\u001b[1;32m    327\u001b[0m             \u001b[0m_current_indent_level\u001b[0m \u001b[0;34m-=\u001b[0m \u001b[0;36m1\u001b[0m\u001b[0;34m\u001b[0m\u001b[0m\n",
      "\u001b[0;32mE:\\Anaconda\\lib\\json\\encoder.py\u001b[0m in \u001b[0;36m_iterencode\u001b[0;34m(o, _current_indent_level)\u001b[0m\n\u001b[1;32m    435\u001b[0m                     \u001b[0;32mraise\u001b[0m \u001b[0mValueError\u001b[0m\u001b[0;34m(\u001b[0m\u001b[0;34m\"Circular reference detected\"\u001b[0m\u001b[0;34m)\u001b[0m\u001b[0;34m\u001b[0m\u001b[0m\n\u001b[1;32m    436\u001b[0m                 \u001b[0mmarkers\u001b[0m\u001b[0;34m[\u001b[0m\u001b[0mmarkerid\u001b[0m\u001b[0;34m]\u001b[0m \u001b[0;34m=\u001b[0m \u001b[0mo\u001b[0m\u001b[0;34m\u001b[0m\u001b[0m\n\u001b[0;32m--> 437\u001b[0;31m             \u001b[0mo\u001b[0m \u001b[0;34m=\u001b[0m \u001b[0m_default\u001b[0m\u001b[0;34m(\u001b[0m\u001b[0mo\u001b[0m\u001b[0;34m)\u001b[0m\u001b[0;34m\u001b[0m\u001b[0m\n\u001b[0m\u001b[1;32m    438\u001b[0m             \u001b[0;32myield\u001b[0m \u001b[0;32mfrom\u001b[0m \u001b[0m_iterencode\u001b[0m\u001b[0;34m(\u001b[0m\u001b[0mo\u001b[0m\u001b[0;34m,\u001b[0m \u001b[0m_current_indent_level\u001b[0m\u001b[0;34m)\u001b[0m\u001b[0;34m\u001b[0m\u001b[0m\n\u001b[1;32m    439\u001b[0m             \u001b[0;32mif\u001b[0m \u001b[0mmarkers\u001b[0m \u001b[0;32mis\u001b[0m \u001b[0;32mnot\u001b[0m \u001b[0;32mNone\u001b[0m\u001b[0;34m:\u001b[0m\u001b[0;34m\u001b[0m\u001b[0m\n",
      "\u001b[0;32mE:\\Anaconda\\lib\\json\\encoder.py\u001b[0m in \u001b[0;36mdefault\u001b[0;34m(self, o)\u001b[0m\n\u001b[1;32m    178\u001b[0m         \"\"\"\n\u001b[1;32m    179\u001b[0m         raise TypeError(\"Object of type '%s' is not JSON serializable\" %\n\u001b[0;32m--> 180\u001b[0;31m                         o.__class__.__name__)\n\u001b[0m\u001b[1;32m    181\u001b[0m \u001b[0;34m\u001b[0m\u001b[0m\n\u001b[1;32m    182\u001b[0m     \u001b[0;32mdef\u001b[0m \u001b[0mencode\u001b[0m\u001b[0;34m(\u001b[0m\u001b[0mself\u001b[0m\u001b[0;34m,\u001b[0m \u001b[0mo\u001b[0m\u001b[0;34m)\u001b[0m\u001b[0;34m:\u001b[0m\u001b[0;34m\u001b[0m\u001b[0m\n",
      "\u001b[0;31mTypeError\u001b[0m: Object of type 'int64' is not JSON serializable"
     ]
    }
   ],
   "source": [
    "name = 'passenger_count'\n",
    "stat = {}\n",
    "stat[name] = []\n",
    "df = pd.read_csv(os.path.join(DATA_DIR, name+'.csv'))\n",
    "print (name)\n",
    "stat[name].append(df.median()[name])\n",
    "print(df.median()[name])\n",
    "\n",
    "stat[name].append(df.mean()[name])\n",
    "print(df.mean()[name])\n",
    "\n",
    "stat[name].append(df.var()[name])\n",
    "print(df.var()[name])\n",
    "\n",
    "stat[name].append(df.max()[name])\n",
    "print(df.max()[name])\n",
    "\n",
    "stat[name].append(df.min()[name])\n",
    "print(df.min()[name])\n",
    "stat_file = codecs.open(os.path.join(DATA_DIR, 'passenger_count_stat.json'), 'w')  \n",
    "json.dump(stat, stat_file, indent=2)"
   ]
  },
  {
   "cell_type": "code",
   "execution_count": 4,
   "metadata": {},
   "outputs": [
    {
     "data": {
      "text/plain": [
       "{'dropoff_latitude': [40.753157,\n",
       "  39.92068144481646,\n",
       "  92.80135123364293,\n",
       "  3537.132528,\n",
       "  -3547.886698],\n",
       " 'dropoff_longitude': [-73.98015,\n",
       "  -72.5112097297414,\n",
       "  163.3845478238834,\n",
       "  3457.62235,\n",
       "  -3442.024565],\n",
       " 'fare_amount': [8.5, 11.345045601733998, 428.9385703534401, 93963.36, -300.0],\n",
       " 'pickup_latitude': [40.75265200000001,\n",
       "  39.9197917868742,\n",
       "  92.97497218700273,\n",
       "  3408.789565,\n",
       "  -3492.263768],\n",
       " 'pickup_longitude': [-73.981803,\n",
       "  -72.5096844435854,\n",
       "  165.09380414684202,\n",
       "  3457.625683,\n",
       "  -3442.059565]}"
      ]
     },
     "execution_count": 4,
     "metadata": {},
     "output_type": "execute_result"
    }
   ],
   "source": [
    "stat_file = codecs.open('data\\\\stat.json', 'r')\n",
    "stat = json.load(stat_file)\n",
    "stat"
   ]
  },
  {
   "cell_type": "code",
   "execution_count": null,
   "metadata": {},
   "outputs": [],
   "source": [
    "abnormal_index = []\n",
    "# NYC Valid Range Definition\n",
    "# According to Google Map (for geomatric information, https://www.google.com/maps) \n",
    "#              NYC Taxi & Limousine Commission (for rules, http://www.nyc.gov/html/tlc/html/passenger/taxicab_rights.shtml7)\n",
    "#              and Wikipedia ()\n",
    "# longitude: max: -73.701995 -> -73.611905 (Expand 10km ~111km/1deg)\n",
    "#            min: -74.256362 -> -74.346452 (Expand 10km)\n",
    "# latitude:  max: 40.915288  ->  41.006197 (Expand 10km ~110km/1deg)\n",
    "#            min: 40.495296  ->  40.404387 (Expand 10km)\n",
    "# 41.006197, -73.611905 41.006197, -74.346452 40.404387, -74.346452 40.404387, -73.611905\n",
    "# fare amount min: \n",
    "# passeng\n",
    "for name in ['pickup_longitude', \n",
    "         'pickup_latitude', 'dropoff_longitude', \n",
    "         'dropoff_latitude', 'fare_amount']:\n",
    "    \n",
    "    df = pd.read_csv(os.path.join(DATA_DIR, name+'.csv'))\n",
    "    print (name)\n",
    "    stat[name].append(df.median()[name])\n",
    "    print(df.median()[name])\n",
    "\n",
    "    stat[name].append(df.mean()[name])\n",
    "    print(df.mean()[name])\n",
    "\n",
    "    stat[name].append(df.var()[name])\n",
    "    print(df.var()[name])\n",
    "\n",
    "    stat[name].append(df.max()[name])\n",
    "    print(df.max()[name])\n",
    "\n",
    "    stat[name].append(df.min()[name])\n",
    "    print(df.min()[name])\n",
    "    stat_file = codecs.open(os.path.join(DATA_DIR, STAT_NOTE_NAME), 'w')  \n",
    "    json.dump(stat, stat_file, indent=2)"
   ]
  }
 ],
 "metadata": {
  "kernelspec": {
   "display_name": "Python 3",
   "language": "python",
   "name": "python3"
  },
  "language_info": {
   "codemirror_mode": {
    "name": "ipython",
    "version": 3
   },
   "file_extension": ".py",
   "mimetype": "text/x-python",
   "name": "python",
   "nbconvert_exporter": "python",
   "pygments_lexer": "ipython3",
   "version": "3.6.3"
  }
 },
 "nbformat": 4,
 "nbformat_minor": 1
}
