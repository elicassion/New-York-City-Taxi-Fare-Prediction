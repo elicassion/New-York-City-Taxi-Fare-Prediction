{
 "cells": [
  {
   "cell_type": "code",
   "execution_count": 26,
   "metadata": {
    "collapsed": true
   },
   "outputs": [],
   "source": [
    "import pandas as pd\n",
    "import numpy as np\n",
    "import matplotlib.pyplot as plt\n",
    "\n",
    "import os\n",
    "import codecs\n",
    "import gc\n",
    "import json\n",
    "DATA_DIR = 'data'\n",
    "FILE_NAME = 'train.csv'\n",
    "INPUT_FILE = os.path.join(DATA_DIR, FILE_NAME)\n",
    "\n",
    "CHUNKSIZE = 10000\n",
    "# MAX_ROW_NUM = 50000000\n",
    "MAX_ROW_NUM = 10000"
   ]
  },
  {
   "cell_type": "code",
   "execution_count": 2,
   "metadata": {},
   "outputs": [],
   "source": [
    ""
   ]
  },
  {
   "cell_type": "code",
   "execution_count": 4,
   "metadata": {},
   "outputs": [],
   "source": [
    "pickup_datetime = []\n",
    "pickup_longitude = []\n",
    "pickup_latitude = []\n",
    "dropoff_longitude = []\n",
    "dropoff_latitude = []\n",
    "passenger_count = []"
   ]
  },
  {
   "cell_type": "code",
   "execution_count": 14,
   "metadata": {},
   "outputs": [],
   "source": [
    "# for cur_row_counter in range(0, MAX_ROW_NUM, CHUNKSIZE):\n",
    "import gc\n",
    "# col_names = ['pickup_datetime', 'pickup_longitude', \n",
    "#              'pickup_latitude', 'dropoff_longitude', \n",
    "#              'dropoff_latitude', 'passenger_count']\n",
    "col_names = ['dropoff_longitude', \n",
    "             'dropoff_latitude', 'passenger_count']\n",
    "for name in col_names:\n",
    "    df = pd.read_csv('data\\\\train.csv', header = 0, usecols = [name])\n",
    "    # if name in ['pickup_longitude', \n",
    "    #          'pickup_latitude', 'dropoff_longtitude', \n",
    "    #          'dropoff_latitude']:\n",
    "    # \n",
    "    df.to_csv(os.path.join(DATA_DIR, name+'.csv'))\n",
    "    gc.collect()\n",
    "# pickup_datetime = df['pickup_datetime']\n",
    "# pickup_longitude = df['pickup_longitude']\n",
    "# pickup_latitude = df['pickup_latitude']\n",
    "# dropoff_longitude = df['dropoff_longtitude']\n",
    "# dropoff_latitude = df['dropoff_latitude']\n",
    "# passenger_count = df['passenger_count']"
   ]
  },
  {
   "cell_type": "code",
   "execution_count": 25,
   "metadata": {},
   "outputs": [
    {
     "data": {
      "text/plain": [
       "419"
      ]
     },
     "execution_count": 25,
     "metadata": {},
     "output_type": "execute_result"
    }
   ],
   "source": [
    "df = pd.read_csv('data\\\\train.csv', header=0, usecols=['fare_amount'])\n",
    "df.to_csv(os.path.join(DATA_DIR, 'fare_amount'+'.csv'))\n",
    "gc.collect()"
   ]
  },
  {
   "cell_type": "code",
   "execution_count": 7,
   "metadata": {},
   "outputs": [
    {
     "name": "stdout",
     "output_type": "stream",
     "text": [
      "pickup_longitude\n"
     ]
    },
    {
     "name": "stdout",
     "output_type": "stream",
     "text": [
      "Unnamed: 0          2.771193e+07\npickup_longitude   -7.398180e+01\ndtype: float64\n"
     ]
    },
    {
     "name": "stdout",
     "output_type": "stream",
     "text": [
      "Unnamed: 0          2.771193e+07\npickup_longitude   -7.250968e+01\ndtype: float64\n"
     ]
    },
    {
     "name": "stdout",
     "output_type": "stream",
     "text": [
      "Unnamed: 0          2.559837e+14\npickup_longitude    1.650938e+02\ndtype: float64\n"
     ]
    },
    {
     "name": "stdout",
     "output_type": "stream",
     "text": [
      "Unnamed: 0          5.542386e+07\npickup_longitude    3.457626e+03\ndtype: float64\n"
     ]
    },
    {
     "name": "stdout",
     "output_type": "stream",
     "text": [
      "Unnamed: 0             0.000000\npickup_longitude   -3442.059565\ndtype: float64\n"
     ]
    }
   ],
   "source": [
    "\n",
    "gc.collect()\n",
    "# for name in ['pickup_longitude', \n",
    "#          'pickup_latitude', 'dropoff_longitude', \n",
    "#          'dropoff_latitude']:\n",
    "# for name in ['pickup_longitude']:\n",
    "name = 'pickup_longitude'\n",
    "df = pd.read_csv(os.path.join(DATA_DIR, name+'.csv'))\n",
    "print (name)\n",
    "print(df.median())\n",
    "print(df.mean())\n",
    "print(df.var())\n",
    "print(df.max())\n",
    "print(df.min())\n",
    "    # gc.collect()\n",
    "    # df.plot()"
   ]
  },
  {
   "cell_type": "code",
   "execution_count": 24,
   "metadata": {},
   "outputs": [
    {
     "data": {
      "text/plain": [
       "1343"
      ]
     },
     "execution_count": 24,
     "metadata": {},
     "output_type": "execute_result"
    }
   ],
   "source": [
    "# pickup_longitude\n",
    "# median   -7.398180e+01\n",
    "# mean   -7.250968e+01\n",
    "# var    1.650938e+02\n",
    "# max    3.457626e+03\n",
    "# min   -3442.059565\n",
    "\n",
    "a = df.loc[df['pickup_longitude']>-73.9818+10].index.values\n",
    "b = df.loc[df['pickup_longitude']<-73.9818-10].index.values\n",
    "len(b)"
   ]
  },
  {
   "cell_type": "code",
   "execution_count": 33,
   "metadata": {},
   "outputs": [
    {
     "name": "stdout",
     "output_type": "stream",
     "text": [
      "pickup_longitude\n"
     ]
    },
    {
     "name": "stdout",
     "output_type": "stream",
     "text": [
      "-73.981803\n"
     ]
    },
    {
     "name": "stdout",
     "output_type": "stream",
     "text": [
      "-72.5096844435854\n"
     ]
    },
    {
     "name": "stdout",
     "output_type": "stream",
     "text": [
      "165.09380414684202\n"
     ]
    },
    {
     "name": "stdout",
     "output_type": "stream",
     "text": [
      "3457.625683\n"
     ]
    },
    {
     "name": "stdout",
     "output_type": "stream",
     "text": [
      "-3442.059565\n"
     ]
    },
    {
     "name": "stdout",
     "output_type": "stream",
     "text": [
      "pickup_latitude\n"
     ]
    },
    {
     "name": "stdout",
     "output_type": "stream",
     "text": [
      "40.75265200000001\n"
     ]
    },
    {
     "name": "stdout",
     "output_type": "stream",
     "text": [
      "39.9197917868742\n"
     ]
    },
    {
     "name": "stdout",
     "output_type": "stream",
     "text": [
      "92.97497218700273\n"
     ]
    },
    {
     "name": "stdout",
     "output_type": "stream",
     "text": [
      "3408.789565\n"
     ]
    },
    {
     "name": "stdout",
     "output_type": "stream",
     "text": [
      "-3492.263768\n"
     ]
    },
    {
     "name": "stdout",
     "output_type": "stream",
     "text": [
      "dropoff_longitude\n"
     ]
    },
    {
     "name": "stdout",
     "output_type": "stream",
     "text": [
      "-73.98015\n"
     ]
    },
    {
     "name": "stdout",
     "output_type": "stream",
     "text": [
      "-72.5112097297414\n"
     ]
    },
    {
     "name": "stdout",
     "output_type": "stream",
     "text": [
      "163.3845478238834\n"
     ]
    },
    {
     "name": "stdout",
     "output_type": "stream",
     "text": [
      "3457.62235\n"
     ]
    },
    {
     "name": "stdout",
     "output_type": "stream",
     "text": [
      "-3442.024565\n"
     ]
    },
    {
     "name": "stdout",
     "output_type": "stream",
     "text": [
      "dropoff_latitude\n"
     ]
    },
    {
     "name": "stdout",
     "output_type": "stream",
     "text": [
      "40.753157\n"
     ]
    },
    {
     "name": "stdout",
     "output_type": "stream",
     "text": [
      "39.92068144481646\n"
     ]
    },
    {
     "name": "stdout",
     "output_type": "stream",
     "text": [
      "92.80135123364293\n"
     ]
    },
    {
     "name": "stdout",
     "output_type": "stream",
     "text": [
      "3537.132528\n"
     ]
    },
    {
     "name": "stdout",
     "output_type": "stream",
     "text": [
      "-3547.886698\n"
     ]
    },
    {
     "name": "stdout",
     "output_type": "stream",
     "text": [
      "fare_amount\n"
     ]
    },
    {
     "name": "stdout",
     "output_type": "stream",
     "text": [
      "8.5\n"
     ]
    },
    {
     "name": "stdout",
     "output_type": "stream",
     "text": [
      "11.345045601733998\n"
     ]
    },
    {
     "name": "stdout",
     "output_type": "stream",
     "text": [
      "428.9385703534401\n"
     ]
    },
    {
     "name": "stdout",
     "output_type": "stream",
     "text": [
      "93963.36\n"
     ]
    },
    {
     "name": "stdout",
     "output_type": "stream",
     "text": [
      "-300.0\n"
     ]
    }
   ],
   "source": [
    "STAT_NOTE_NAME = 'stat.json'\n",
    "stat = {}\n",
    "for name in ['pickup_longitude', \n",
    "         'pickup_latitude', 'dropoff_longitude', \n",
    "         'dropoff_latitude', 'fare_amount']:\n",
    "    stat[name] = []\n",
    "    df = pd.read_csv(os.path.join(DATA_DIR, name+'.csv'))\n",
    "    print (name)\n",
    "    stat[name].append(df.median()[name])\n",
    "    print(df.median()[name])\n",
    "\n",
    "    stat[name].append(df.mean()[name])\n",
    "    print(df.mean()[name])\n",
    "\n",
    "    stat[name].append(df.var()[name])\n",
    "    print(df.var()[name])\n",
    "\n",
    "    stat[name].append(df.max()[name])\n",
    "    print(df.max()[name])\n",
    "\n",
    "    stat[name].append(df.min()[name])\n",
    "    print(df.min()[name])\n",
    "    stat_file = codecs.open(os.path.join(DATA_DIR, STAT_NOTE_NAME), 'w')  \n",
    "    json.dump(stat, stat_file, indent=2)\n"
   ]
  },
  {
   "cell_type": "code",
   "execution_count": 32,
   "metadata": {},
   "outputs": [
    {
     "data": {
      "text/plain": [
       "8.5"
      ]
     },
     "execution_count": 32,
     "metadata": {},
     "output_type": "execute_result"
    }
   ],
   "source": [
    ""
   ]
  },
  {
   "cell_type": "code",
   "execution_count": null,
   "metadata": {},
   "outputs": [],
   "source": []
  }
 ],
 "metadata": {
  "kernelspec": {
   "display_name": "Python 2",
   "language": "python",
   "name": "python2"
  },
  "language_info": {
   "codemirror_mode": {
    "name": "ipython",
    "version": 2
   },
   "file_extension": ".py",
   "mimetype": "text/x-python",
   "name": "python",
   "nbconvert_exporter": "python",
   "pygments_lexer": "ipython2",
   "version": "2.7.6"
  }
 },
 "nbformat": 4,
 "nbformat_minor": 0
}
