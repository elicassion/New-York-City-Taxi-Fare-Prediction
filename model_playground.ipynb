{
 "cells": [
  {
   "cell_type": "code",
   "execution_count": null,
   "metadata": {
    "collapsed": true
   },
   "outputs": [],
   "source": [
    "import pandas as pd\n",
    "import numpy as np\n",
    "import matplotlib.pyplot as plt\n",
    "import os\n",
    "import codecs\n",
    "import gc\n",
    "import json\n",
    "import sklearn\n",
    "\n",
    "DATA_DIR = 'data'\n",
    "\n",
    "CHUNKSIZE = 2000000\n",
    "MAX_ROW_NUM = 50000000\n",
    "# MAX_ROW_NUM = 3000000\n",
    "\n",
    "NYC_RANGE = (-74.3400, -73.6700, 40.4500, 40.9500)\n",
    "NYC_RANGE_EXTENDED = (-74.4667, -73.0083, 40.4203, 41.3077)\n",
    "NYC_RANGE_FILENAME = 'gnyc.png'\n",
    "nyc_map = plt.imread(os.path.join(DATA_DIR, NYC_RANGE_FILENAME))\n",
    "\n",
    "NYC_EXTENDED_FILENAME = 'gnyce.png'\n",
    "nyc_map_extended = plt.imread(os.path.join(DATA_DIR, NYC_EXTENDED_FILENAME))\n",
    "\n",
    "WASHED_DATA_DIR = 'washed'\n",
    "WASHED_FILE_NAME = 'train_wfd.csv'\n",
    "\n",
    "INPUT_FILE_PATH = os.path.join(WASHED_DATA_DIR, WASHED_FILE_NAME)\n",
    "\n",
    "FEATURE_NAMES = ['pickup_longitude', 'pickup_latitude', \n",
    "                'dropoff_longitude', 'dropoff_latitude', 'passenger_count',\n",
    "                 'pickup_year', 'pickup_month', 'pickup_day', 'pickup_daytime']\n",
    "\n",
    " "
   ]
  }
 ],
 "metadata": {
  "kernelspec": {
   "display_name": "Python 2",
   "language": "python",
   "name": "python2"
  },
  "language_info": {
   "codemirror_mode": {
    "name": "ipython",
    "version": 2
   },
   "file_extension": ".py",
   "mimetype": "text/x-python",
   "name": "python",
   "nbconvert_exporter": "python",
   "pygments_lexer": "ipython2",
   "version": "2.7.6"
  }
 },
 "nbformat": 4,
 "nbformat_minor": 0
}
